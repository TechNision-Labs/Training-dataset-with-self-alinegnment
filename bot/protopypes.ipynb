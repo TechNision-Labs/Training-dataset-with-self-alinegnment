{
 "cells": [
  {
   "cell_type": "code",
   "execution_count": null,
   "metadata": {},
   "outputs": [],
   "source": [
    "import os\n",
    "import yaml\n",
    "import jsonlines\n",
    "from langchain.schema import Document\n",
    "def load_config():\n",
    "    \"\"\"\n",
    "    Carga la configuración de la aplicación desde el archivo 'config.yaml'.\n",
    "\n",
    "    Returns:\n",
    "        Un diccionario con la configuración de la aplicación.\n",
    "    \"\"\"\n",
    "    root_dir = os.path.dirname(os.path.abspath(__file__))\n",
    "    with open(os.path.join(root_dir, \"config.yaml\")) as stream:\n",
    "        try:\n",
    "            return yaml.safe_load(stream)\n",
    "        except yaml.YAMLError as exc:\n",
    "            print(exc)\n",
    "\n",
    "def get_file_path():\n",
    "    \"\"\"\n",
    "    Obtiene la ruta al archivo de base de datos JSONL especificado en la configuración de la aplicación.\n",
    "\n",
    "    Returns:\n",
    "        La ruta al archivo de base de datos JSONL.\n",
    "    \"\"\"\n",
    "    config = load_config()\n",
    "\n",
    "    root_dir = os.path.dirname(os.path.abspath(__file__))\n",
    "    parent_dir = os.path.join(root_dir, \"..\")\n",
    "\n",
    "    return os.path.join(parent_dir, config[\"jsonl_database_path\"])\n"
   ]
  },
  {
   "cell_type": "code",
   "execution_count": null,
   "metadata": {},
   "outputs": [],
   "source": [
    "from utils import get_openai_api_key \n",
    "from langchain.chat_models import ChatOpenAI\n",
    "\n",
    "get_openai_api_key()\n",
    "\n",
    "llm = ChatOpenAI(\n",
    "  model_name=\"gpt-3.5-turbo\",\n",
    "  temperature=0.2,\n",
    "  max_tokens=1000,  # Queremos que las respuestas sean tan largas como el modelo lo considere, sin considerar la cantidad de tokens\n",
    ")"
   ]
  },
  {
   "cell_type": "code",
   "execution_count": 2,
   "metadata": {},
   "outputs": [],
   "source": [
    "import tiktoken\n",
    "import json\n",
    "\n",
    "path = \"../data/gse_2023_11_09.jsonl\"\n",
    "encoding = tiktoken.encoding_for_model('gpt-3.5-turbo')\n",
    "\n",
    "def num_tokens_from_string(string: str) -> int:\n",
    "    \"\"\"Returns the number of tokens in a text string.\"\"\"\n",
    "    encoding = tiktoken.encoding_for_model('gpt-3.5-turbo')\n",
    "    num_tokens = len(encoding.encode(string))\n",
    "    return num_tokens\n",
    "\n",
    "\n",
    "len_token = []\n",
    "tex_list = []\n",
    "pages = []\n",
    "with open(path) as f:\n",
    "    for line in f:\n",
    "        data = json.loads(line)\n",
    "        \n",
    "        text = data['text']\n",
    "        pages.append(data['page'])\n",
    "        len_token.append(num_tokens_from_string(text))\n",
    "        tex_list.append(text)"
   ]
  },
  {
   "cell_type": "code",
   "execution_count": 3,
   "metadata": {},
   "outputs": [
    {
     "data": {
      "text/html": [
       "<div>\n",
       "<style scoped>\n",
       "    .dataframe tbody tr th:only-of-type {\n",
       "        vertical-align: middle;\n",
       "    }\n",
       "\n",
       "    .dataframe tbody tr th {\n",
       "        vertical-align: top;\n",
       "    }\n",
       "\n",
       "    .dataframe thead th {\n",
       "        text-align: right;\n",
       "    }\n",
       "</style>\n",
       "<table border=\"1\" class=\"dataframe\">\n",
       "  <thead>\n",
       "    <tr style=\"text-align: right;\">\n",
       "      <th></th>\n",
       "      <th>pag</th>\n",
       "      <th>Num_tokens</th>\n",
       "      <th>Texto</th>\n",
       "    </tr>\n",
       "  </thead>\n",
       "  <tbody>\n",
       "    <tr>\n",
       "      <th>0</th>\n",
       "      <td>1</td>\n",
       "      <td>57</td>\n",
       "      <td>Aprobada por Resolución de Presidencia de Cons...</td>\n",
       "    </tr>\n",
       "    <tr>\n",
       "      <th>1</th>\n",
       "      <td>2</td>\n",
       "      <td>231</td>\n",
       "      <td>Guía para el seguimiento y evaluación de polít...</td>\n",
       "    </tr>\n",
       "    <tr>\n",
       "      <th>2</th>\n",
       "      <td>3</td>\n",
       "      <td>76</td>\n",
       "      <td>CENTRO NACIONAL DE PLANEAMIENTO ESTRATÉGICO - ...</td>\n",
       "    </tr>\n",
       "    <tr>\n",
       "      <th>3</th>\n",
       "      <td>4</td>\n",
       "      <td>32</td>\n",
       "      <td>4 GUÍA PARA EL SEGUIMIENTO Y EVALUACIÓN DE POL...</td>\n",
       "    </tr>\n",
       "    <tr>\n",
       "      <th>4</th>\n",
       "      <td>5</td>\n",
       "      <td>22</td>\n",
       "      <td>CENTRO NACIONAL DE PLANEAMIENTO ESTRATÉGICO - ...</td>\n",
       "    </tr>\n",
       "    <tr>\n",
       "      <th>...</th>\n",
       "      <td>...</td>\n",
       "      <td>...</td>\n",
       "      <td>...</td>\n",
       "    </tr>\n",
       "    <tr>\n",
       "      <th>151</th>\n",
       "      <td>152</td>\n",
       "      <td>434</td>\n",
       "      <td>152 GUÍA PARA EL SEGUIMIENTO Y EVALUACIÓN DE P...</td>\n",
       "    </tr>\n",
       "    <tr>\n",
       "      <th>152</th>\n",
       "      <td>153</td>\n",
       "      <td>876</td>\n",
       "      <td>CENTRO NACIONAL DE PLANEAMIENTO ESTRATÉGICO - ...</td>\n",
       "    </tr>\n",
       "    <tr>\n",
       "      <th>153</th>\n",
       "      <td>154</td>\n",
       "      <td>867</td>\n",
       "      <td>154 GUÍA PARA EL SEGUIMIENTO Y EVALUACIÓN DE P...</td>\n",
       "    </tr>\n",
       "    <tr>\n",
       "      <th>154</th>\n",
       "      <td>155</td>\n",
       "      <td>793</td>\n",
       "      <td>CENTRO NACIONAL DE PLANEAMIENTO ESTRATÉGICO - ...</td>\n",
       "    </tr>\n",
       "    <tr>\n",
       "      <th>155</th>\n",
       "      <td>156</td>\n",
       "      <td>87</td>\n",
       "      <td>156 GUÍA PARA EL SEGUIMIENTO Y EVALUACIÓN DE P...</td>\n",
       "    </tr>\n",
       "  </tbody>\n",
       "</table>\n",
       "<p>156 rows × 3 columns</p>\n",
       "</div>"
      ],
      "text/plain": [
       "     pag  Num_tokens                                              Texto\n",
       "0      1          57  Aprobada por Resolución de Presidencia de Cons...\n",
       "1      2         231  Guía para el seguimiento y evaluación de polít...\n",
       "2      3          76  CENTRO NACIONAL DE PLANEAMIENTO ESTRATÉGICO - ...\n",
       "3      4          32  4 GUÍA PARA EL SEGUIMIENTO Y EVALUACIÓN DE POL...\n",
       "4      5          22  CENTRO NACIONAL DE PLANEAMIENTO ESTRATÉGICO - ...\n",
       "..   ...         ...                                                ...\n",
       "151  152         434  152 GUÍA PARA EL SEGUIMIENTO Y EVALUACIÓN DE P...\n",
       "152  153         876  CENTRO NACIONAL DE PLANEAMIENTO ESTRATÉGICO - ...\n",
       "153  154         867  154 GUÍA PARA EL SEGUIMIENTO Y EVALUACIÓN DE P...\n",
       "154  155         793  CENTRO NACIONAL DE PLANEAMIENTO ESTRATÉGICO - ...\n",
       "155  156          87  156 GUÍA PARA EL SEGUIMIENTO Y EVALUACIÓN DE P...\n",
       "\n",
       "[156 rows x 3 columns]"
      ]
     },
     "execution_count": 3,
     "metadata": {},
     "output_type": "execute_result"
    }
   ],
   "source": [
    "import pandas as pd\n",
    "df = pd.DataFrame({\"pag\":pages,\"Num_tokens\":len_token, \"Texto\":tex_list})\n",
    "df"
   ]
  },
  {
   "cell_type": "code",
   "execution_count": 11,
   "metadata": {},
   "outputs": [
    {
     "data": {
      "text/plain": [
       "90356"
      ]
     },
     "execution_count": 11,
     "metadata": {},
     "output_type": "execute_result"
    }
   ],
   "source": [
    "sum(df.Num_tokens)"
   ]
  },
  {
   "cell_type": "code",
   "execution_count": 4,
   "metadata": {},
   "outputs": [
    {
     "name": "stdout",
     "output_type": "stream",
     "text": [
      "content='Propositions related to government planning in Spanish:\\n\\n1. La guía proporciona un modelo de reporte de cumplimiento de políticas nacionales y planes del SINAPLAN.\\n2. El reporte de cumplimiento de políticas nacionales debe indicar el nombre de la política nacional.\\n3. El reporte de cumplimiento de políticas nacionales debe indicar el nombre del ministerio rector o conductor.\\n4. El reporte de cumplimiento de políticas nacionales debe indicar el problema público identificado en la política nacional.\\n5. El reporte de cumplimiento de políticas nacionales debe indicar todos los objetivos prioritarios de la política nacional.\\n6. El reporte de cumplimiento de políticas nacionales debe indicar el dispositivo legal que aprueba la política nacional.\\n7. El resumen del reporte de cumplimiento debe describir de manera breve los principales resultados, avances, intervenciones y mejoras necesarias en la política nacional.\\n8. El cumplimiento de los objetivos prioritarios de la política nacional debe ser descrito en el reporte.\\n9. La situación de las principales actividades que contribuyen al cumplimiento del objetivo de la política nacional y el uso de recursos deben ser descritos en el reporte.\\n10. Se deben describir las alternativas requeridas para mejorar la implementación de las políticas nacionales.'\n"
     ]
    }
   ],
   "source": [
    "# Modelo de chat\n",
    "from langchain.chat_models import ChatOpenAI\n",
    "from utils import get_openai_api_key\n",
    "\n",
    "get_openai_api_key()\n",
    "\n",
    "chat = ChatOpenAI(\n",
    "    temperature=0.0, \n",
    "    model=\"gpt-3.5-turbo\"\n",
    "    )\n",
    "\n",
    "# Prompt template\n",
    "from langchain.prompts import ChatPromptTemplate\n",
    "\n",
    "template_string = \"\"\"You are tasked with extracting a logic propositions fron the given text, remember to be caution \\\n",
    "and consider the proposition should be related to government planning. Consider based in informative entities, where \\\n",
    "informative entities are: relevant to the main topic, faithful and should present in the given Text, and located \\\n",
    "anywhere in the text. Finally, provides all propositions in Spanish language and in list format.\n",
    "\n",
    "Given text: {text}\n",
    "\"\"\"\n",
    "prompt_template = ChatPromptTemplate.from_template(\n",
    "                    template_string\n",
    "                  )\n",
    "\n",
    "message = prompt_template.format_messages(\n",
    "  text = df[\"Texto\"][151]\n",
    "  )\n",
    "\n",
    "response = chat(message)\n",
    "\n",
    "print(response)"
   ]
  },
  {
   "cell_type": "code",
   "execution_count": 9,
   "metadata": {},
   "outputs": [
    {
     "data": {
      "text/plain": [
       "['La guía proporciona un modelo de reporte de cumplimiento de políticas nacionales y planes del SINAPLAN.',\n",
       " 'El reporte de cumplimiento de políticas nacionales debe indicar el nombre de la política nacional.',\n",
       " 'El reporte de cumplimiento de políticas nacionales debe indicar el nombre del ministerio rector o conductor.',\n",
       " 'El reporte de cumplimiento de políticas nacionales debe indicar el problema público identificado en la política nacional.',\n",
       " 'El reporte de cumplimiento de políticas nacionales debe indicar todos los objetivos prioritarios de la política nacional.',\n",
       " 'El reporte de cumplimiento de políticas nacionales debe indicar el dispositivo legal que aprueba la política nacional.',\n",
       " 'El resumen del reporte de cumplimiento debe describir de manera breve los principales resultados, avances, intervenciones y mejoras necesarias en la política nacional.',\n",
       " 'El cumplimiento de los objetivos prioritarios de la política nacional debe ser descrito en el reporte.',\n",
       " 'La situación de las principales actividades que contribuyen al cumplimiento del objetivo de la política nacional y el uso de recursos deben ser descritos en el reporte.',\n",
       " 'Se deben describir las alternativas requeridas para mejorar la implementación de las políticas nacionales.']"
      ]
     },
     "execution_count": 9,
     "metadata": {},
     "output_type": "execute_result"
    }
   ],
   "source": [
    "import re\n",
    "texto = response.content\n",
    "\n",
    "# Expresión regular para encontrar proposiciones numeradas\n",
    "expresion_regular = re.compile(r'\\d+\\.\\s(.+?)(?=\\n\\d+\\.|$)')\n",
    "# expresion_regular = re.compile(r'(\\d+\\.\\s.+?)(?=\\n\\d+\\.|$)')\n",
    "\n",
    "# Buscar todas las coincidencias en el texto\n",
    "propositions = expresion_regular.findall(texto)\n",
    "\n",
    "list_propositions = [proposition for proposition in propositions]\n",
    "\n",
    "# Imprimir la lista de proposiciones\n",
    "list_propositions"
   ]
  },
  {
   "cell_type": "code",
   "execution_count": null,
   "metadata": {},
   "outputs": [],
   "source": [
    "def get_proposition(Texto):\n",
    "  message = prompt_template.format_messages(\n",
    "    text = Texto\n",
    "    )\n",
    "  return(message.content)\n",
    "\n",
    "df = df.assign(\n",
    "  proposition = df.apply(lambda x: get_proposition(x.Texto), axis=1)\n",
    ")"
   ]
  },
  {
   "cell_type": "code",
   "execution_count": null,
   "metadata": {},
   "outputs": [],
   "source": []
  },
  {
   "cell_type": "code",
   "execution_count": null,
   "metadata": {},
   "outputs": [],
   "source": []
  }
 ],
 "metadata": {
  "kernelspec": {
   "display_name": "analitica_survey",
   "language": "python",
   "name": "python3"
  },
  "language_info": {
   "codemirror_mode": {
    "name": "ipython",
    "version": 3
   },
   "file_extension": ".py",
   "mimetype": "text/x-python",
   "name": "python",
   "nbconvert_exporter": "python",
   "pygments_lexer": "ipython3",
   "version": "3.10.6"
  }
 },
 "nbformat": 4,
 "nbformat_minor": 2
}
